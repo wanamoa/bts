{
 "cells": [
  {
   "cell_type": "markdown",
   "metadata": {},
   "source": [
    "# TFD D'UN SIGNAL AUDIO AVEC LES BTS2 SN\n",
    "---\n",
    "\n",
    "\n",
    "## OBJECTIF :\n",
    "![Audacity](audacity_logo.png)\n",
    "##### Le but de cette expérience est de savoir si le piano de ma fille est bien accordée. Pour cela, le 3ème LA a été joué et enregistré <i class=\"fa fa-microphone\" aria-hidden=\"true\"></i> à une fréquence d'échantillonage de 44 kz sur 16 bits grâce au logiciel libre Audacity \n",
    "##### Rappelons que cette note correspond à une fréquence de 440 hz.\n",
    "\n",
    "---\n",
    "## Mise en place :\n",
    "Pour parvenir à nos fins, le fichier *piano.wav* se trouve à la racine et nous utiliserons un environnement Python 3.6.\n"
   ]
  },
  {
   "cell_type": "markdown",
   "metadata": {},
   "source": [
    "---\n",
    "## ÉTAPE 1\n",
    "\n",
    "Nous allons importer les modules et bibliothèques nécessaires au traitement du son, au calcul (TFD) et au tracé de graphique.\n",
    "\n",
    "- *scipy* pour tout ce qui tourne autour des maths, de l'ingénierie, des sciences en général. Ici, c'est la bibliothèque de traitement de fichiers son qui nous intéresse.\n",
    "- *numpy* pour le calcul mathématiques (En particulier l'algorithme *Fast Fourier Transform* noté `fft`).\n",
    "- *matplotlib* pour le tracé de graphiques : pour l'usage en ligne avec les notebooks il faut le spécifier avec la première ligne `%matplotlib inline`."
   ]
  },
  {
   "cell_type": "code",
   "execution_count": 1,
   "metadata": {},
   "outputs": [],
   "source": [
    "%matplotlib inline\n",
    "from scipy.io.wavfile import read\n",
    "import numpy as np\n",
    "from matplotlib import pyplot as plt\n",
    "from numpy.fft import fft"
   ]
  },
  {
   "cell_type": "markdown",
   "metadata": {},
   "source": [
    "---\n",
    "## ÉTAPE 2"
   ]
  },
  {
   "cell_type": "markdown",
   "metadata": {},
   "source": [
    "L'étape suivante consiste en premier lieu à ouvrir notre fichier sonore *piano.wav* avec la fonction `read()`.\n",
    "Attention, cette fonction retourne pour un fichier sonore deux valeurs : le taux d'échantillonnage **et** les données.\n",
    "\n",
    "Compléter la cellule de code en remplaçant les *???* et tenant compte des points suivants :\n",
    "\n",
    "1. La fonction `read(nomdufichier)` retourne deux valeurs :\n",
    "\n",
    "    - la fréquence d'échantillonnage de l'enregistrement,\n",
    "    - les échantillons.\n",
    "\n",
    "   On les affectera simultanément à deux variables que l'on nommera `f_echant` et `donnees`.\n",
    "\n",
    "2. On récupère la taille du fichier sonore avec la méthode `.size` que l'on affecte à une variable nommée `taille`.\n",
    "3. La durée du morceau est égale au quotient de la taille par le taux d'échantillonnage.\n",
    "4. On affichera cette durée.\n",
    "\n",
    "<i class=\"fa fa-cog fa-spin fa-3x fa-fw\"></i>\n",
    "<span class=\"sr-only\">Loading...</span>À vous de jouer :"
   ]
  },
  {
   "cell_type": "code",
   "execution_count": 14,
   "metadata": {
    "slideshow": {
     "slide_type": "slide"
    }
   },
   "outputs": [],
   "source": [
    "# Lecture du fichier 'Piano2024-16bitsSIGNED-POST' et affectation à deux variables :\n",
    "\n",
    "\n",
    "# Affectation de la taille des données à la variable 'taille' et affichage de cette taille :\n",
    "\n",
    "\n",
    "# Calcul de la durée du morceau et affectation à la variable 'duree' :\n",
    "\n",
    "\n",
    "# Affichage de la taille, de la durée en secondes et de la fréquence d'échantillonnage en hartz :\n"
   ]
  },
  {
   "cell_type": "markdown",
   "metadata": {},
   "source": [
    "Maintenant, par curiosité, affichons le contenu de la variable `donnees`:"
   ]
  },
  {
   "cell_type": "code",
   "execution_count": 3,
   "metadata": {},
   "outputs": [],
   "source": [
    "# Afficher le contenu de 'donnees' :"
   ]
  },
  {
   "cell_type": "markdown",
   "metadata": {},
   "source": [
    "Que remarquez-vous ?\n",
    "Que faut-il faire pour avoir un tableau de données exploitable ?"
   ]
  },
  {
   "cell_type": "code",
   "execution_count": 13,
   "metadata": {},
   "outputs": [],
   "source": [
    "# Boucle pour simplifier les données...\n"
   ]
  },
  {
   "cell_type": "markdown",
   "metadata": {},
   "source": [
    "---\n",
    "## ÉTAPE 3"
   ]
  },
  {
   "cell_type": "markdown",
   "metadata": {},
   "source": [
    "On souhaite maintenant tracer la représentation **temporelle** du signal audio : c'est à dire la forme d'onde au cours du temps.\n",
    "Tout d'abord, il faut garder à l'esprit que le son produit par le piano est un signal continu ; en le captant numériquement, Audacity a procédé à un échantillonnage (44 100 Hz sur 32 bits, puis enregistrement sous forme de fichiers sur 16 bits) : cela signifie que des échantillons ont été captés 44 100 fois par seconde !\n",
    "\n",
    "Donc, sur une seconde, nous avons 44 100 données. Pour simple information, voici un morceau d'un signal audio échantillonnée par Audacity à 44 100 Hz puis 8 000 Hz (zoomé) : l'image est moins dense, il y a moins de données.\n",
    "\n",
    "<img src=\"deuxechantillonnages.png\" alt=\"alt text\" width=\"400\"/>\n",
    "\n",
    "\n",
    "Pour notre représentation graphique, et en supposant que notre signal audio a une durée de 10 secondes, cela donne 441 000 données : il est donc inutile de demander l'affichage de 600 000 données... Évident, non ?\n",
    "On peut afficher 441 000 données ou même moins : on échantillonne donc notre signal (qui a déja été échantillonné par Audacity...)."
   ]
  },
  {
   "cell_type": "markdown",
   "metadata": {},
   "source": [
    "---\n",
    "<i class=\"fa fa-cog fa-spin fa-3x fa-fw\"></i>\n",
    "<span class=\"sr-only\">Loading...</span> **QUESTION**"
   ]
  },
  {
   "cell_type": "markdown",
   "metadata": {},
   "source": [
    "*Considérons un signal échantillonné à 8 000 Hz. L'échantillonnage nous apporte 48 000 données ou échantillons.*\n",
    " \n",
    "*Quelle est la durée de ce signal ?*"
   ]
  },
  {
   "cell_type": "markdown",
   "metadata": {},
   "source": [
    "\n",
    "\n",
    "---"
   ]
  },
  {
   "cell_type": "markdown",
   "metadata": {},
   "source": [
    "### Reprenons notre étude.\n",
    "\n",
    "Il nous faut un axe des abscisses avec une valeur maximale : celle de la durée du signal. \n",
    "Donc il nous faut déterminer la durée de notre signal en utlisant Python.\n",
    "\n",
    "*Informations :*\n",
    "\n",
    "   - la fonction `arange(taille)` de *numpy* retourne des valeurs de façon régulière entre 0 et le nombre maximum de données avec un incrément de 1 ;\n",
    "   - il nous faut un tableau de valeurs `te` contenant les abscisses (temps en secondes) ;\n",
    "   - `plt.figure(1)` crée une figure numérotée 1 ;\n",
    "   - `plt.plot(x,y)` trace les points de coordonnées `(x,y` ;\n",
    "   - `plt.grid(True)`affiche une grille ;\n",
    "   - `plt.show(1)` affiche la figure 1 complète.\n",
    "   \n",
    "<i class=\"fa fa-cog fa-spin fa-3x fa-fw\"></i>\n",
    "<span class=\"sr-only\">Loading...</span>Compléter le code ci-dessous :"
   ]
  },
  {
   "cell_type": "code",
   "execution_count": 5,
   "metadata": {},
   "outputs": [
    {
     "data": {
      "image/png": "[encoded data removed]",
      "text/plain": [
       "<Figure size 432x288 with 1 Axes>"
      ]
     },
     "metadata": {
      "needs_background": "light"
     },
     "output_type": "display_data"
    }
   ],
   "source": [
    "te = np.arange???\n",
    "plt.figure(1)\n",
    "plt.plot(???,???)\n",
    "plt.grid(True)\n",
    "plt.show(1)"
   ]
  },
  {
   "cell_type": "markdown",
   "metadata": {},
   "source": [
    "---\n",
    "## ÉTAPE 4"
   ]
  },
  {
   "cell_type": "markdown",
   "metadata": {},
   "source": [
    "On souhaite maintenant obtenir la représentation **spectrale** de notre signal qui nous donnera la <span style=\"color: #26B260\">*fondamentale*</span> de notre note et ses <span style=\"color: #26B260\">*harmoniques*</span>...\n",
    "\n",
    "Pour cela il faut calculer la TFD du signal : on se tourne vers l'algorithme **FFT** (*Fast Fourier Transform*) du module *Numpy*. \n",
    "\n",
    "*Cet algorithme prend en paramètres :*\n",
    "- le début et la fin (en secondes) de la portion étudiée du signal ;\n",
    "- la fréquence d'échantillonnage du signal ;\n",
    "- les données du signal.\n",
    "\n",
    "Nous allons définir une fonction `tracerSpectre()` que nous pourrons appeler quand nous le souhaiterons avec les paramètres cités au-dessus."
   ]
  },
  {
   "cell_type": "code",
   "execution_count": 6,
   "metadata": {},
   "outputs": [],
   "source": [
    "def tracerSpectre(donnees,f_echant,debut,duree):\n",
    "    # le début est un multiple de la fréq. d'échantoillonnage...\n",
    "    start = int(???)\n",
    "    # idem pour la fin\n",
    "    stop = int(???)\n",
    "    spectre = np.absolute(fft(donnees[start:stop]))\n",
    "    spectre = spectre/spectre.max()\n",
    "    n = spectre.size\n",
    "    \n",
    "    # Valeurs sur l'axe des abscisses\n",
    "    freq = np.arange(n)*1.0/n*f_echant\n",
    "    plt.figure(2)\n",
    "    plt.vlines(freq,[0],spectre,'r')\n",
    "    plt.xlabel('f (Hz)')\n",
    "    plt.ylabel('A')\n",
    "    plt.axis([???])\n",
    "    plt.grid()\n",
    "    plt.show(2)"
   ]
  },
  {
   "cell_type": "markdown",
   "metadata": {},
   "source": [
    "Ensuite, il ne reste plus qu'à appeler notre fonction avec les arguments :\n",
    "- `donnee` : (en mémoire)\n",
    "- `f_echant` : (en mémoire)\n",
    "- `debut` : à choisir (en secondes)\n",
    "- `duree` : à choisir (en secondes)\n",
    "\n",
    "<i class=\"fa fa-cog fa-spin fa-3x fa-fw\"></i>\n",
    "<span class=\"sr-only\">Loading...</span>Appeler notre fonction sur l'intervalle allant de 0 à 2 secondes :"
   ]
  },
  {
   "cell_type": "code",
   "execution_count": null,
   "metadata": {},
   "outputs": [],
   "source": []
  },
  {
   "cell_type": "markdown",
   "metadata": {},
   "source": [
    "<i class=\"fa fa-cog fa-spin fa-3x fa-fw\"></i>\n",
    "<span class=\"sr-only\">Loading...</span>**QUESTION :**\n",
    "\n",
    "Relever la fondamentale du signal et en déduire si le piano est correctement accordée."
   ]
  },
  {
   "cell_type": "markdown",
   "metadata": {},
   "source": [
    "Fondamentale : 437,5 Hz or la valeur attendue est 440 Hz... Le piano n'est pas correctement accordée. Ceci dit, certaines marques de pianos *personnalisent* le son de leurs gammes de pianos en choisissant des fréquences légèrement décalées à l'image de certains guitaristes avec leur instrument."
   ]
  },
  {
   "cell_type": "markdown",
   "metadata": {},
   "source": [
    "---\n",
    "## ÉTAPE 5"
   ]
  },
  {
   "cell_type": "markdown",
   "metadata": {},
   "source": [
    "En reprenant ce qui a été fait, écrire un algorithme **complet** afin d'étudier la même note *La* de ce même piano enregistrée après accordage (nom de fichier : *Piano2024-16bitsSIGNED-POST*) et qui devra : \n",
    " - afficher la représentation temporelle ;\n",
    " - afficher la représentation spectrale.\n"
   ]
  },
  {
   "cell_type": "code",
   "execution_count": 10,
   "metadata": {},
   "outputs": [],
   "source": [
    "# Votre algorithme\n"
   ]
  },
  {
   "cell_type": "code",
   "execution_count": 12,
   "metadata": {},
   "outputs": [],
   "source": [
    "# Appel à la fonction que vou aurez créée\n"
   ]
  },
  {
   "cell_type": "markdown",
   "metadata": {},
   "source": [
    "<i class=\"fa fa-cog fa-spin fa-3x fa-fw\"></i>\n",
    "<span class=\"sr-only\">Loading...</span>**QUESTION :** \n",
    "\n",
    "Que pouvons-nous conclure ?\n"
   ]
  },
  {
   "cell_type": "markdown",
   "metadata": {},
   "source": [
    "Fondamentale : 435 Hz or la valeur attendue est 440 Hz... Le piano n'est toujours pas correctement accordée, il l'est même de moins en moins au fil du temps."
   ]
  }
 ],
 "metadata": {
  "hide_input": false,
  "kernelspec": {
   "display_name": "Python 3",
   "language": "python",
   "name": "python3"
  },
  "language_info": {
   "codemirror_mode": {
    "name": "ipython",
    "version": 3
   },
   "file_extension": ".py",
   "mimetype": "text/x-python",
   "name": "python",
   "nbconvert_exporter": "python",
   "pygments_lexer": "ipython3",
   "version": "3.7.3"
  }
 },
 "nbformat": 4,
 "nbformat_minor": 2
}
